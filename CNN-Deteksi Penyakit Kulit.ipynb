{
  "nbformat": 4,
  "nbformat_minor": 0,
  "metadata": {
    "colab": {
      "provenance": [],
      "collapsed_sections": [
        "Eub3YpDZ5urh"
      ]
    },
    "kernelspec": {
      "name": "python3",
      "display_name": "Python 3"
    },
    "language_info": {
      "name": "python"
    },
    "gpuClass": "standard"
  },
  "cells": [
    {
      "cell_type": "markdown",
      "source": [
        "# Image Classification menggunakan CNN"
      ],
      "metadata": {
        "id": "PkKFHyVSgAOs"
      }
    },
    {
      "cell_type": "markdown",
      "source": [
        "#### Kaggle dataset"
      ],
      "metadata": {
        "id": "Eub3YpDZ5urh"
      }
    },
    {
      "cell_type": "code",
      "source": [
        "!pip install kaggle"
      ],
      "metadata": {
        "id": "taviyzvEz4KZ"
      },
      "execution_count": null,
      "outputs": []
    },
    {
      "cell_type": "code",
      "source": [
        "!kaggle datasets download -d rendyys/dataset-penyakit-kulit\n",
        "\n",
        "print('Data source import complete.')"
      ],
      "metadata": {
        "id": "IRXeypz3GAJF"
      },
      "execution_count": null,
      "outputs": []
    },
    {
      "cell_type": "code",
      "source": [
        "!unzip penyakit-kulit.zip"
      ],
      "metadata": {
        "id": "ZE0ow25Qys5T"
      },
      "execution_count": null,
      "outputs": []
    },
    {
      "cell_type": "code",
      "source": [
        "folder_path = \"penyakit-kulit\"\n",
        "file_list = os.listdir(folder_path)\n",
        "print(\"Files in the folder:\", file_list)"
      ],
      "metadata": {
        "id": "pYrIWkqOz_HG"
      },
      "execution_count": null,
      "outputs": []
    },
    {
      "cell_type": "markdown",
      "source": [
        "#### Drive dataset"
      ],
      "metadata": {
        "id": "IV3dWO3650HD"
      }
    },
    {
      "cell_type": "markdown",
      "source": [
        "File ada pada [link ini](https://drive.google.com/drive/folders/129u1wP2X6AVIrScrxAyvxZzDh-Y1uNsf?usp=drive_link)\n"
      ],
      "metadata": {
        "id": "NeBM3NGrC6qk"
      }
    },
    {
      "cell_type": "code",
      "source": [
        "from google.colab import drive\n",
        "drive.mount('/content/drive')"
      ],
      "metadata": {
        "id": "LIEgZdJ354O_"
      },
      "execution_count": null,
      "outputs": []
    },
    {
      "cell_type": "code",
      "source": [
        "%matplotlib inline\n",
        "import numpy as np\n",
        "import pandas as pd\n",
        "import matplotlib.pyplot as plt\n",
        "import cv2\n",
        "import os\n",
        "import PIL\n",
        "import pathlib\n",
        "from google.colab import files\n",
        "from PIL import Image\n",
        "import imghdr\n",
        "\n",
        "from keras.preprocessing import image\n",
        "from sklearn.model_selection import train_test_split\n",
        "from sklearn.metrics import confusion_matrix, ConfusionMatrixDisplay, classification_report\n",
        "import tensorflow as tf\n",
        "from tensorflow import keras\n",
        "from tensorflow.keras.models import Sequential\n",
        "from tensorflow.keras.layers import Conv2D,Dense,Dropout, Flatten,Activation, BatchNormalization,MaxPooling2D\n",
        "from tensorflow.keras import datasets, layers, models\n",
        "from tensorflow.keras.preprocessing.image import load_img\n",
        "from tensorflow.keras.preprocessing.image import img_to_array\n",
        "from tensorflow.keras.callbacks import EarlyStopping\n",
        "from tensorflow.keras.preprocessing.image import ImageDataGenerator\n",
        "from tensorflow.keras.optimizers import Adam, RMSprop, SGD\n",
        "from tensorflow.keras.metrics import Precision, Accuracy, Recall"
      ],
      "metadata": {
        "id": "CbvuhTlkywmS"
      },
      "execution_count": null,
      "outputs": []
    },
    {
      "cell_type": "code",
      "source": [
        "folder_path = \"/content/drive/MyDrive/penyakit-kulit/\"\n",
        "file_list = os.listdir(folder_path)\n",
        "print(\"Files in the folder:\", file_list)"
      ],
      "metadata": {
        "id": "N1CCoPYO56Ip"
      },
      "execution_count": null,
      "outputs": []
    },
    {
      "cell_type": "code",
      "source": [
        "train_datagen = ImageDataGenerator(rescale=1/255)\n",
        "validation_datagen = ImageDataGenerator (rescale=1/255)\n",
        "test_datagen = ImageDataGenerator (rescale=1/255)\n",
        "\n",
        "train_generator = train_datagen.flow_from_directory(\n",
        "    '/content/drive/MyDrive/penyakit-kulit/train',\n",
        "    classes = ['acne','eksim','herpes','panu','rosacea'],\n",
        "    target_size=(200, 200),\n",
        "    batch_size=16)\n",
        "\n",
        "validation_generator = validation_datagen.flow_from_directory(\n",
        "    '/content/drive/MyDrive/penyakit-kulit/valid',\n",
        "    classes = ['acne','eksim','herpes','panu','rosacea'],\n",
        "    target_size=(200, 200),\n",
        "    batch_size=16,\n",
        "    shuffle=False)\n",
        "\n",
        "test_generator = test_datagen.flow_from_directory(\n",
        "    '/content/drive/MyDrive/penyakit-kulit/test',\n",
        "    classes = ['acne','eksim','herpes','panu','rosacea'],\n",
        "    target_size=(200, 200),\n",
        "    batch_size=16,\n",
        "    shuffle=False)\n"
      ],
      "metadata": {
        "id": "4xmbHF2cD-5y"
      },
      "execution_count": null,
      "outputs": []
    },
    {
      "cell_type": "code",
      "source": [
        "model = Sequential()\n",
        "model.add(Conv2D(16, (3, 3), activation='relu', input_shape=(200, 200, 3)))\n",
        "model.add(MaxPooling2D(2, 2))\n",
        "model.add(Conv2D(32, (3, 3), activation='relu'))\n",
        "model.add(MaxPooling2D(2, 2))\n",
        "model.add(Conv2D(64, (3, 3), activation='relu'))\n",
        "model.add(MaxPooling2D(2, 2))\n",
        "model.add(Flatten())\n",
        "model.add(Dense(64, activation='relu'))\n",
        "model.add(Dense(256, activation='relu'))\n",
        "model.add(Dropout(0.3))\n",
        "model.add(Dense(5, activation='softmax'))"
      ],
      "metadata": {
        "id": "wWK-BRuPEwE1"
      },
      "execution_count": null,
      "outputs": []
    },
    {
      "cell_type": "code",
      "source": [
        "model.summary()"
      ],
      "metadata": {
        "id": "gGv7FounEx5W"
      },
      "execution_count": null,
      "outputs": []
    },
    {
      "cell_type": "code",
      "source": [
        "model.compile(\n",
        "    optimizer=Adam(learning_rate=0.001),\n",
        "    loss='categorical_crossentropy',\n",
        "    metrics= [Recall(), Precision(), \"accuracy\"]\n",
        ")"
      ],
      "metadata": {
        "id": "X4Yupd_4Fnri"
      },
      "execution_count": null,
      "outputs": []
    },
    {
      "cell_type": "code",
      "source": [
        "model_callback = EarlyStopping(\n",
        "    monitor = 'loss',\n",
        "    verbose = 1,\n",
        "    mode = 'min',\n",
        "    patience= 3\n",
        ")"
      ],
      "metadata": {
        "id": "8NrGCNuYE_uR"
      },
      "execution_count": null,
      "outputs": []
    },
    {
      "cell_type": "code",
      "source": [
        "history = model.fit(\n",
        "    train_generator,\n",
        "    validation_data=validation_generator,\n",
        "    epochs=75,\n",
        "    steps_per_epoch=100,\n",
        "    callbacks = [model_callback],\n",
        "    verbose=1\n",
        ")"
      ],
      "metadata": {
        "id": "oZ6qnaybFCNP"
      },
      "execution_count": null,
      "outputs": []
    },
    {
      "cell_type": "code",
      "source": [
        "test_generator = test_datagen.flow_from_directory(\n",
        "    '/content/drive/MyDrive/penyakit-kulit/test',\n",
        "    classes = ['acne','eksim','herpes','panu','rosacea'],\n",
        "    target_size=(200, 200),\n",
        "    batch_size=16,\n",
        "    class_mode='categorical',\n",
        "    shuffle=False\n",
        ")"
      ],
      "metadata": {
        "id": "UgklgH3ZI5x_"
      },
      "execution_count": null,
      "outputs": []
    },
    {
      "cell_type": "code",
      "source": [
        "model.evaluate(test_generator)"
      ],
      "metadata": {
        "id": "fHkUiJs432Pq"
      },
      "execution_count": null,
      "outputs": []
    },
    {
      "cell_type": "code",
      "source": [
        "plt.figure(figsize=(8, 3))\n",
        "plt.plot(history.epoch, history.history['accuracy'])\n",
        "plt.plot(history.epoch, history.history['val_accuracy'])\n",
        "plt.legend(['train accu', 'val accu'])\n",
        "plt.title('Accuracy Diagram')\n",
        "plt.xlabel('Epoch(s)')\n",
        "plt.ylabel('Accuracy')\n",
        "plt.show()"
      ],
      "metadata": {
        "id": "tBMkUqQuMwwD"
      },
      "execution_count": null,
      "outputs": []
    },
    {
      "cell_type": "code",
      "source": [
        "plt.figure(figsize=(8, 3))\n",
        "plt.plot(history.epoch, history.history['loss'])\n",
        "plt.plot(history.epoch, history.history['val_loss'])\n",
        "plt.legend(['train loss', 'val loss'])\n",
        "plt.title('Loss Diagram')\n",
        "plt.xlabel('Epoch(s)')\n",
        "plt.ylabel('Loss')\n",
        "plt.show()"
      ],
      "metadata": {
        "id": "-zVeljZp3-O4"
      },
      "execution_count": null,
      "outputs": []
    },
    {
      "cell_type": "code",
      "source": [
        "predictions = model.predict(test_generator, steps=len(test_generator), verbose=1)\n",
        "predicted_classes = np.argmax(predictions, axis=1)\n",
        "true_classes = test_generator.classes\n",
        "cm = confusion_matrix(true_classes, predicted_classes)\n",
        "\n",
        "disp = ConfusionMatrixDisplay(confusion_matrix=cm, display_labels=test_generator.class_indices.keys())\n",
        "disp.plot(cmap=plt.cm.Blues)\n",
        "plt.title('Confusion Matrix')\n",
        "plt.show()\n",
        "\n",
        "report = classification_report(true_classes, predicted_classes, target_names=test_generator.class_indices.keys())\n",
        "print(report)"
      ],
      "metadata": {
        "id": "ZhqELd6SR-VV"
      },
      "execution_count": null,
      "outputs": []
    },
    {
      "cell_type": "code",
      "source": [
        "width = 200\n",
        "height = 200\n",
        "classes = ['acne','eksim','herpes','panu','rosacea']\n",
        "fileImage = Image.open(\"/content/drive/MyDrive/penyakit-kulit/valid/acne/ac86_JPG.rf.e5a4d64f2c42bd1e7cb5663bc782e1fd.jpg\").convert(\"RGB\").resize([width, height], Image.LANCZOS)\n",
        "image = np.array(fileImage)\n",
        "myimage = image.reshape(1, width, height, 3)\n",
        "plt.figure(figsize=(4, 2))\n",
        "plt.imshow(image)\n",
        "\n",
        "my_predicted_image = model.predict(myimage)\n",
        "y_class = np.argmax(my_predicted_image)\n",
        "print(\"Class:\", y_class, \"Name:\", classes[y_class])"
      ],
      "metadata": {
        "id": "g6PzWU5JA5ex"
      },
      "execution_count": null,
      "outputs": []
    },
    {
      "cell_type": "code",
      "source": [
        "fileImage = Image.open(\"/content/drive/MyDrive/penyakit-kulit/valid/rosacea/ro22_jpg.rf.88f2d4f4e04a3f3583df0672b87fef42.jpg\").convert(\"RGB\").resize([width, height], Image.LANCZOS)\n",
        "image = np.array(fileImage)\n",
        "myimage = image.reshape(1, width, height, 3)\n",
        "plt.figure(figsize=(4, 2))\n",
        "plt.imshow(image)\n",
        "\n",
        "my_predicted_image = model.predict(myimage)\n",
        "y_class = np.argmax(my_predicted_image)\n",
        "print(\"Class:\", y_class, \"Name:\", classes[y_class])"
      ],
      "metadata": {
        "id": "zfVrGBfEb4QR"
      },
      "execution_count": null,
      "outputs": []
    },
    {
      "cell_type": "code",
      "source": [
        "fileImage = Image.open(\"/content/drive/MyDrive/penyakit-kulit/valid/panu/pa26_jpg.rf.fd2fe80d03604f654b01d179789a937d.jpg\").convert(\"RGB\").resize([width, height], Image.LANCZOS)\n",
        "image = np.array(fileImage)\n",
        "myimage = image.reshape(1, width, height, 3)\n",
        "plt.figure(figsize=(4, 2))\n",
        "plt.imshow(image)\n",
        "\n",
        "my_predicted_image = model.predict(myimage)\n",
        "y_class = np.argmax(my_predicted_image)\n",
        "print(\"Class:\", y_class, \"Name:\", classes[y_class])"
      ],
      "metadata": {
        "id": "glZoOXoIb9lB"
      },
      "execution_count": null,
      "outputs": []
    },
    {
      "cell_type": "code",
      "source": [
        "fileImage = Image.open(\"/content/drive/MyDrive/penyakit-kulit/valid/herpes/he49_jpg.rf.084fba655e2b89c68b5e7d6aaa312974.jpg\").convert(\"RGB\").resize([width, height], Image.LANCZOS)\n",
        "image = np.array(fileImage)\n",
        "myimage = image.reshape(1, width, height, 3)\n",
        "plt.figure(figsize=(4, 2))\n",
        "plt.imshow(image)\n",
        "\n",
        "my_predicted_image = model.predict(myimage)\n",
        "y_class = np.argmax(my_predicted_image)\n",
        "print(\"Class:\", y_class, \"Name:\", classes[y_class])"
      ],
      "metadata": {
        "id": "aUVxGHHhcAXD"
      },
      "execution_count": null,
      "outputs": []
    },
    {
      "cell_type": "markdown",
      "source": [
        "Lakukan predict ke gambar baru"
      ],
      "metadata": {
        "id": "zZFmf-50oC3f"
      }
    },
    {
      "cell_type": "code",
      "source": [
        "uploaded = files.upload()\n",
        "\n",
        "for fn in uploaded.keys():\n",
        "    path = '/content/' + fn\n",
        "    img = image.load_img(path, target_size=(200, 200))\n",
        "    img_array = image.img_to_array(img)\n",
        "    img_array = np.expand_dims(img_array, axis=0)\n",
        "\n",
        "    classes = model.predict(img_array / 255.0)\n",
        "    predicted_class_index = np.argmax(classes[0])\n",
        "    class_names = [\"acne\", \"eksim\", \"herpes\", \"panu\", \"rosacea\"]\n",
        "    predicted_class_name = class_names[predicted_class_index]\n",
        "    print(f\"Predicted class: {predicted_class_name}\")\n",
        "\n",
        "    plt.figure(figsize=(4, 2))\n",
        "    plt.imshow(img)\n",
        "    plt.axis('off')\n",
        "    plt.show()\n",
        "    print(f\"Class index: {predicted_class_index}, Class Name: {predicted_class_name}\")"
      ],
      "metadata": {
        "id": "EVlyQzejQsLR"
      },
      "execution_count": null,
      "outputs": []
    },
    {
      "cell_type": "code",
      "source": [
        "#Save Model\n",
        "model.save('model_dt_kulit.h5')"
      ],
      "metadata": {
        "id": "A6LnYRmX3G47"
      },
      "execution_count": null,
      "outputs": []
    }
  ]
}